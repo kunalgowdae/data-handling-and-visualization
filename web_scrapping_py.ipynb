{
  "nbformat": 4,
  "nbformat_minor": 0,
  "metadata": {
    "colab": {
      "provenance": [],
      "authorship_tag": "ABX9TyPhbE2uYJsVqQGyeqECOtMO",
      "include_colab_link": true
    },
    "kernelspec": {
      "name": "python3",
      "display_name": "Python 3"
    },
    "language_info": {
      "name": "python"
    }
  },
  "cells": [
    {
      "cell_type": "markdown",
      "metadata": {
        "id": "view-in-github",
        "colab_type": "text"
      },
      "source": [
        "<a href=\"https://colab.research.google.com/github/kunalgowdae/data-handling-and-visualization/blob/main/web_scrapping_py.ipynb\" target=\"_parent\"><img src=\"https://colab.research.google.com/assets/colab-badge.svg\" alt=\"Open In Colab\"/></a>"
      ]
    },
    {
      "cell_type": "code",
      "execution_count": null,
      "metadata": {
        "colab": {
          "base_uri": "https://localhost:8080/"
        },
        "id": "gPkHNmimHK63",
        "outputId": "20d43765-f32c-4d8b-ec0f-bd656ded8d53"
      },
      "outputs": [
        {
          "output_type": "stream",
          "name": "stdout",
          "text": [
            "\n",
            "<html><head>\n",
            "<meta http-equiv=\"content-type\" content=\"text/html;charset=utf-8\">\n",
            "<title>404 Not Found</title>\n",
            "</head>\n",
            "<body text=#000000 bgcolor=#ffffff>\n",
            "<h1>Error: Not Found</h1>\n",
            "<h2>The requested URL <code>/SearchResultPage</code> was not found on this server.</h2>\n",
            "<h2></h2>\n",
            "</body></html>\n",
            "\n"
          ]
        }
      ],
      "source": [
        "import requests\n",
        "link=\"https://www.carwale.com/mg-cars/hector/\"\n",
        "link_text=requests.get(link).text\n",
        "print(link_text)"
      ]
    },
    {
      "cell_type": "code",
      "source": [
        "\n",
        "from bs4 import BeautifulSoup\n",
        "Soup=BeautifulSoup(link_text,'lxml')\n",
        "print(Soup)"
      ],
      "metadata": {
        "colab": {
          "base_uri": "https://localhost:8080/"
        },
        "id": "qyOSTKJmKAS2",
        "outputId": "24dcb23b-f2e9-4d2b-a6cd-4be2d15dc246"
      },
      "execution_count": null,
      "outputs": [
        {
          "output_type": "stream",
          "name": "stdout",
          "text": [
            "<html><head>\n",
            "<meta content=\"text/html;charset=utf-8\" http-equiv=\"content-type\"/>\n",
            "<title>404 Not Found</title>\n",
            "</head>\n",
            "<body bgcolor=\"#ffffff\" text=\"#000000\">\n",
            "<h1>Error: Not Found</h1>\n",
            "<h2>The requested URL <code>/SearchResultPage</code> was not found on this server.</h2>\n",
            "<h2></h2>\n",
            "</body></html>\n",
            "\n"
          ]
        }
      ]
    },
    {
      "cell_type": "code",
      "source": [
        "print(Soup.prettify())\n"
      ],
      "metadata": {
        "colab": {
          "base_uri": "https://localhost:8080/"
        },
        "id": "wZDQkXKHLxlX",
        "outputId": "add53f20-59ac-4d7b-9f7a-b3ca1121bbd0"
      },
      "execution_count": null,
      "outputs": [
        {
          "output_type": "stream",
          "name": "stdout",
          "text": [
            "<html>\n",
            " <head>\n",
            "  <meta content=\"text/html;charset=utf-8\" http-equiv=\"content-type\"/>\n",
            "  <title>\n",
            "   404 Not Found\n",
            "  </title>\n",
            " </head>\n",
            " <body bgcolor=\"#ffffff\" text=\"#000000\">\n",
            "  <h1>\n",
            "   Error: Not Found\n",
            "  </h1>\n",
            "  <h2>\n",
            "   The requested URL\n",
            "   <code>\n",
            "    /SearchResultPage\n",
            "   </code>\n",
            "   was not found on this server.\n",
            "  </h2>\n",
            "  <h2>\n",
            "  </h2>\n",
            " </body>\n",
            "</html>\n",
            "\n"
          ]
        }
      ]
    },
    {
      "cell_type": "code",
      "source": [
        "print(Soup.title)"
      ],
      "metadata": {
        "colab": {
          "base_uri": "https://localhost:8080/"
        },
        "id": "qosuL5RrL8e-",
        "outputId": "68e0e955-368f-4472-db67-67c8b6524886"
      },
      "execution_count": null,
      "outputs": [
        {
          "output_type": "stream",
          "name": "stdout",
          "text": [
            "<title>404 Not Found</title>\n"
          ]
        }
      ]
    },
    {
      "cell_type": "code",
      "source": [
        "Soup.a"
      ],
      "metadata": {
        "id": "zzw96UdZMftm"
      },
      "execution_count": null,
      "outputs": []
    },
    {
      "cell_type": "code",
      "source": [
        "Soup.find_all('a')"
      ],
      "metadata": {
        "colab": {
          "base_uri": "https://localhost:8080/"
        },
        "id": "gEqcnKDZMnRm",
        "outputId": "ea491c94-fa0d-4817-dcba-06afc0fd17ce"
      },
      "execution_count": null,
      "outputs": [
        {
          "output_type": "execute_result",
          "data": {
            "text/plain": [
              "[]"
            ]
          },
          "metadata": {},
          "execution_count": 13
        }
      ]
    },
    {
      "cell_type": "code",
      "source": [
        "all_table=Soup.find_all('table')\n",
        "print(all_table)"
      ],
      "metadata": {
        "colab": {
          "base_uri": "https://localhost:8080/"
        },
        "id": "VNefMcVRM2KG",
        "outputId": "e7ade620-83ca-4978-cfad-a6c5aedd076c"
      },
      "execution_count": null,
      "outputs": [
        {
          "output_type": "stream",
          "name": "stdout",
          "text": [
            "[]\n"
          ]
        }
      ]
    },
    {
      "cell_type": "code",
      "source": [
        "from urllib.request import urlopen\n",
        "from bs4 import BeautifulSoup\n",
        "\n",
        "htmldata = urlopen('https://www.popularmechanics.com/cars/g93/the-100-hottest-cars-of-all-time/')\n",
        "soup = BeautifulSoup(htmldata, 'html.parser')\n",
        "images = soup.find_all('img')\n",
        "\n",
        "for item in images:\n",
        "    print(item['src'])\n"
      ],
      "metadata": {
        "id": "EcPAyP-zNDCm",
        "colab": {
          "base_uri": "https://localhost:8080/"
        },
        "outputId": "a1fbc8dc-9fdb-4e48-b337-f579767d41bc"
      },
      "execution_count": 1,
      "outputs": [
        {
          "output_type": "stream",
          "name": "stdout",
          "text": [
            "/_assets/design-tokens/fre/static/icons/search.f1c199c.svg\n",
            "/_assets/design-tokens/fre/static/icons/close.38e3324.svg?primary=%2523595959\n",
            "/_assets/design-tokens/popularmechanics/static/images/logos/logo.a957255.svg?primary=%25231c6a65\n",
            "/_assets/design-tokens/fre/static/icons/search.f1c199c.svg?primary=%25231c6a65\n",
            "/_assets/design-tokens/fre/static/icons/saved.ad81f1a.svg?primary=%2523ffffff\n",
            "https://hips.hearstapps.com/hmg-prod/images/collest-cars-1653427349.png?crop=0.503xw:1.00xh;0.250xw,0&resize=640:*\n",
            "/_assets/design-tokens/fre/static/icons/social/pinterest.e8cf655.svg?primary=%2523ffffff\n",
            "https://hips.hearstapps.com/hmg-prod/images/carbon-fiber-shelby-mustang-1600685276.jpg?crop=0.9988636363636364xw:1xh;center,top&resize=980:*\n",
            "https://hips.hearstapps.com/hmg-prod/images/at-the-paris-festival-automobile-international-with-concept-news-photo-1600690007.jpg?crop=0.99902xw:1xh;center,top&resize=980:*\n",
            "https://hips.hearstapps.com/hmg-prod/images/bugatti-chiron-sport-mid-engined-w16-engine-exclusive-news-photo-1600704674.jpg?crop=1xw:0.99951xh;center,top&resize=980:*\n",
            "https://hips.hearstapps.com/pop.h-cdn.co/assets/cm/15/05/768x516/54ca5c279f1cd_-_100-cars-001-jaguar-xjs-1211-xln.jpg?resize=980:*\n",
            "https://hips.hearstapps.com/pop.h-cdn.co/assets/cm/15/05/768x516/54ca5c2806ace_-_100-cars-002-chevrolet-camaro-1211-xln-25039490.jpg?resize=980:*\n",
            "https://hips.hearstapps.com/pop.h-cdn.co/assets/cm/15/05/768x516/54ca5c285894f_-_100-cars-003-lotus-esprit-s4-1211-xln-35905301.jpg?resize=980:*\n",
            "https://hips.hearstapps.com/pop.h-cdn.co/assets/17/03/1280x639/gallery-1484927325-ford-gt.jpg?resize=980:*\n",
            "https://hips.hearstapps.com/pop.h-cdn.co/assets/cm/15/05/768x516/54ca5c28f3d07_-_100-cars-005-cadillac-1959-1211-xln.jpg?resize=980:*\n",
            "https://hips.hearstapps.com/pop.h-cdn.co/assets/cm/15/05/768x516/54ca5c294d9d2_-_100-cars-006-bugatti-type57-1211-xln.jpg?resize=980:*\n",
            "https://hips.hearstapps.com/pop.h-cdn.co/assets/cm/15/05/768x516/54ca5c299dc01_-_100-cars-007-noble-m12-1211-xln-12670688.jpg?resize=980:*\n",
            "https://hips.hearstapps.com/pop.h-cdn.co/assets/cm/15/05/768x516/54ca5c29eab1e_-_100-cars-008-dodge-viper-1211-xln.jpg?resize=980:*\n",
            "https://hips.hearstapps.com/pop.h-cdn.co/assets/cm/15/05/768x516/54ca5c2a4bd00_-_100-cars-009-mb-540k-1211-xln.jpg?resize=980:*\n",
            "https://hips.hearstapps.com/pop.h-cdn.co/assets/cm/15/05/768x516/54ca5c2a9efe7_-_100-cars-010-ford-boss-302-1211-xln.jpg?resize=980:*\n",
            "https://hips.hearstapps.com/pop.h-cdn.co/assets/cm/15/05/768x516/54ca5c2aecad5_-_100-cars-011-volvo-p1800-1211-xln.jpg?resize=980:*\n",
            "https://hips.hearstapps.com/pop.h-cdn.co/assets/cm/15/05/768x516/54ca5c2b4aaa0_-_100-cars-012-vw-karmann-ghia-1211-xln.jpg?resize=980:*\n",
            "https://hips.hearstapps.com/pop.h-cdn.co/assets/cm/15/05/768x516/54ca5c2b99128_-_100-cars-013-ferrari-360-1211-xln.jpg?resize=980:*\n",
            "https://hips.hearstapps.com/pop.h-cdn.co/assets/cm/15/05/768x516/54ca5c2bea1a0_-_100-cars-014-nissan-gtr-1211-xln-73978320.jpg?resize=980:*\n",
            "https://hips.hearstapps.com/pop.h-cdn.co/assets/cm/15/05/768x516/54ca5c2c4d9b2_-_100-cars-015-corvette-c1-1211-xln-35494706.jpg?resize=980:*\n",
            "https://hips.hearstapps.com/pop.h-cdn.co/assets/cm/15/05/768x516/54ca5c2ca3397_-_100-cars-016-alfa-romeo-spider-1211-xln.jpg?resize=980:*\n",
            "https://hips.hearstapps.com/pop.h-cdn.co/assets/17/03/1484927519-porsche-carrera-gt.jpg?crop=1xw:0.84375xh;center,top&resize=980:*\n",
            "https://hips.hearstapps.com/rover/profile_photos/4e6f3b60-c39c-4576-82a6-5cd858e37235_1649695291.file?fill=1:1&resize=120:*\n",
            "/_assets/design-tokens/fre/static/icons/play.db7c035.svg?primary=%2523ffffff\n",
            "https://hips.hearstapps.com/vidthumb/images/52261388-2852175955007050-8879895092647690240-n-1586206695.jpg?crop=1xw:1xh;center,top&resize=1200:*\n",
            "https://hips.hearstapps.com/hmg-prod/images/best-video-games-1553109264.jpg?crop=0.503xw:1.00xh;0.251xw,0&resize=360:*\n",
            "https://hips.hearstapps.com/hmg-prod/images/glass-of-beer-on-the-table-with-wheat-malt-barley-royalty-free-image-881762668-1534183770.jpg?crop=0.671xw:1.00xh;0.168xw,0&resize=360:*\n",
            "https://hips.hearstapps.com/hmg-prod/images/turntable-gettyimages-825858078-3-1579202360.gif?crop=0.502xw:1.00xh;0.292xw,0&resize=360:*\n",
            "https://hips.hearstapps.com/hmg-prod/images/untitled-2-1564767714.jpg?crop=0.502xw:1.00xh;0.250xw,0&resize=360:*\n",
            "https://hips.hearstapps.com/pop.h-cdn.co/assets/17/34/980x980/square-1503516894-sci-fi-tv.jpg?resize=360:*\n",
            "https://hips.hearstapps.com/hmg-prod/images/pmx060119toolawards01-digital-hero-image-1560177207.jpg?crop=0.471xw:1.00xh;0.272xw,0&resize=360:*\n",
            "https://hips.hearstapps.com/hmg-prod/images/mobilegames-lead-2-1-1512429896.jpg?crop=0.502xw:1.00xh;0.250xw,0&resize=360:*\n",
            "https://hips.hearstapps.com/pop.h-cdn.co/assets/17/18/980x980/square-1493847257-boardgames-lead.jpg?resize=360:*\n",
            "https://hips.hearstapps.com/pop.h-cdn.co/assets/cm/15/05/640x640/54cb384017e3c_-_parallell-parking-01-0514-de.jpg?resize=360:*\n",
            "https://hips.hearstapps.com/pop.h-cdn.co/assets/cm/15/06/480x480/54cfd786070db_-_coolest-trucks-01-0314-lgn.jpg?resize=360:*\n",
            "https://hips.hearstapps.com/hmg-prod/images/legacy-fre-image-placeholder-1645192942.png?crop=1xw:1xh;center,top&resize=360:*\n",
            "https://hips.hearstapps.com/hmg-prod/images/legacy-fre-image-placeholder-1645192942.png?crop=1xw:1xh;center,top&resize=360:*\n",
            "/_assets/design-tokens/popularmechanics/static/images/logos/logo.a957255.svg?primary=%25231c6a65\n",
            "/_assets/design-tokens/fre/static/icons/social/x.3361b6d.svg?primary=%2523000000&id=social-button-icon\n",
            "/_assets/design-tokens/fre/static/icons/social/tiktok.603c377.svg?primary=%2523000000&id=social-button-icon\n",
            "/_assets/design-tokens/fre/static/icons/social/youtube.ce3e1ae.svg?primary=%2523000000&id=social-button-icon\n",
            "/_assets/design-tokens/fre/static/icons/social/facebook.a5a3a69.svg?primary=%2523000000&id=social-button-icon\n",
            "/_assets/design-tokens/fre/static/icons/social/instagram.f282b14.svg?primary=%2523000000&id=social-button-icon\n",
            "/_assets/design-tokens/fre/static/icons/social/pinterest.e8cf655.svg?primary=%2523000000&id=social-button-icon\n",
            "/_assets/design-tokens/popularmechanics/static/images/logos/network-logo.910b3ba.svg?primary=%2523ffffff\n"
          ]
        }
      ]
    },
    {
      "cell_type": "code",
      "source": [],
      "metadata": {
        "id": "EHYm1bO4TMBf"
      },
      "execution_count": null,
      "outputs": []
    }
  ]
}